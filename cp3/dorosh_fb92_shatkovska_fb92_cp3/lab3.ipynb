{
  "nbformat": 4,
  "nbformat_minor": 0,
  "metadata": {
    "colab": {
      "name": "lab3.ipynb",
      "provenance": [],
      "collapsed_sections": [],
      "include_colab_link": true
    },
    "kernelspec": {
      "name": "python3",
      "display_name": "Python 3"
    },
    "language_info": {
      "name": "python"
    }
  },
  "cells": [
    {
      "cell_type": "markdown",
      "metadata": {
        "id": "view-in-github",
        "colab_type": "text"
      },
      "source": [
        "<a href=\"https://colab.research.google.com/github/minako-aino/crypto-FB-9/blob/cp3/cp3/dorosh_fb92_shatkovska_fb92_cp3/lab3.ipynb\" target=\"_parent\"><img src=\"https://colab.research.google.com/assets/colab-badge.svg\" alt=\"Open In Colab\"/></a>"
      ]
    },
    {
      "cell_type": "markdown",
      "metadata": {
        "id": "HtPYh4-HcnWf"
      },
      "source": [
        "# Лабораторна робота з криптографії №3\n",
        "#### Виконали: Дорош Анастасія та Шатковська Діана ФБ-92\n"
      ]
    },
    {
      "cell_type": "markdown",
      "metadata": {
        "id": "Y-UUXv_IsZ8o"
      },
      "source": [
        "**Мета:** засвоєння понять ентропії на символ джерела та його надлишковості, вивчення та порівняння різних моделей джерела відкритого тексту для наближеного визначення\n",
        "ентропії, набуття практичних навичок щодо оцінки ентропії на символ джерела.\n",
        "\n"
      ]
    },
    {
      "cell_type": "markdown",
      "metadata": {
        "id": "UnCWw1OwsmWH"
      },
      "source": [
        "###Хід роботи"
      ]
    },
    {
      "cell_type": "markdown",
      "metadata": {
        "id": "QGnGM0bKswtj"
      },
      "source": [
        "Say smth"
      ]
    },
    {
      "cell_type": "markdown",
      "metadata": {
        "id": "7Z2MTJCKtISO"
      },
      "source": [
        "###Частина 1\n"
      ]
    },
    {
      "cell_type": "markdown",
      "metadata": {
        "id": "MX9MnniEcZ-D"
      },
      "source": [
        "Реалізувати підпрограми із необхідними математичними операціями:\n",
        "обчисленням оберненого елементу за модулем із використанням розширеного алгоритму Евкліда, розв’язуванням лінійних порівнянь. При розв’язуванні порівнянь потрібно коректно обробляти випадок із декількома розв’язками, повертаючи їх усі.\n"
      ]
    },
    {
      "cell_type": "code",
      "metadata": {
        "id": "hBtbxoB9dtv4",
        "colab": {
          "base_uri": "https://localhost:8080/"
        },
        "outputId": "7b47c179-602c-4d47-ef49-f443c26db513"
      },
      "source": [
        "def gcd(a, b):\n",
        "  p = [0,1]\n",
        "  gcd_val = b\n",
        "  a, b = max(a,b), min(a,b)\n",
        "  while (b != 0):\n",
        "    # print('---')\n",
        "    # print(a,b)\n",
        "    q = a // b\n",
        "    # print(q)\n",
        "    gcd_val = b\n",
        "    a, b = b, a % b\n",
        "    p.append(p[-1]*(-q)+p[-2])\n",
        "    # print(p[-1])\n",
        "    # gcd_val = gcd, p[-2] = a^(-1)\n",
        "  return gcd_val, p[-2]\n",
        "\n",
        "# debug\n",
        "gcd(13, 151)"
      ],
      "execution_count": 159,
      "outputs": [
        {
          "output_type": "execute_result",
          "data": {
            "text/plain": [
              "(1, -58)"
            ]
          },
          "metadata": {},
          "execution_count": 159
        }
      ]
    },
    {
      "cell_type": "code",
      "metadata": {
        "id": "2OdrQ91oeOtG"
      },
      "source": [
        "def linear(a, b, n):\n",
        "  a = a%n\n",
        "  b = b%n\n",
        "  \n",
        "  d, a_re = gcd(a, n)\n",
        "\n",
        "  if d == 1:\n",
        "    x = (a_re*b) % n\n",
        "\n",
        "    return [x]\n",
        "  else:\n",
        "    if b%d == 0:\n",
        "      solutions = []\n",
        "      solutions_loc = []\n",
        "\n",
        "      a1 = a/d\n",
        "      b1 = b/d\n",
        "      n1 = n/d\n",
        "\n",
        "      solutions_loc = linear(a1, b1, n1)\n",
        "\n",
        "      for i in range(0, d):\n",
        "        for x0 in solutions_loc:\n",
        "          res = x0+(d-i)*n1\n",
        "          solutions.append(res%n)\n",
        "\n",
        "      #print(f\"There are {d} solutions: \")\n",
        "      return sorted(solutions)\n",
        "    else:\n",
        "      #print(\"No solutions\")\n",
        "      return None"
      ],
      "execution_count": 160,
      "outputs": []
    },
    {
      "cell_type": "code",
      "metadata": {
        "id": "SCgQOU42zhI0",
        "colab": {
          "base_uri": "https://localhost:8080/"
        },
        "outputId": "6a84cbb7-028a-4c93-e309-c5b7da0c4653"
      },
      "source": [
        "# test\n",
        "linear(154,22,803)"
      ],
      "execution_count": 161,
      "outputs": [
        {
          "output_type": "execute_result",
          "data": {
            "text/plain": [
              "[21.0, 94.0, 167.0, 240.0, 313.0, 386.0, 459.0, 532.0, 605.0, 678.0, 751.0]"
            ]
          },
          "metadata": {},
          "execution_count": 161
        }
      ]
    },
    {
      "cell_type": "markdown",
      "metadata": {
        "id": "m8qeaO6zyb0o"
      },
      "source": [
        "###Частина 2"
      ]
    },
    {
      "cell_type": "markdown",
      "metadata": {
        "id": "gTkp5DDn-94X"
      },
      "source": [
        "За допомогою програми обчислення частот біграм, яка написана в ході виконання комп’ютерного практикуму No1, знайти 5 найчастіших біграм запропонованого шифртексту (за варіантом)."
      ]
    },
    {
      "cell_type": "code",
      "metadata": {
        "colab": {
          "base_uri": "https://localhost:8080/"
        },
        "id": "sca5KtHMCOwC",
        "outputId": "b0596f8d-a2b0-4e66-a432-e10716d7c398"
      },
      "source": [
        "# stuff to get the file\n",
        "from google.colab import drive\n",
        "drive.mount('/content/drive')"
      ],
      "execution_count": 162,
      "outputs": [
        {
          "output_type": "stream",
          "name": "stdout",
          "text": [
            "Drive already mounted at /content/drive; to attempt to forcibly remount, call drive.mount(\"/content/drive\", force_remount=True).\n"
          ]
        }
      ]
    },
    {
      "cell_type": "code",
      "metadata": {
        "colab": {
          "base_uri": "https://localhost:8080/"
        },
        "id": "bin9HTiYPGng",
        "outputId": "c1af0277-ede1-40b3-c82a-e5fb3a645ed1"
      },
      "source": [
        "cd /content/drive/MyDrive/5 sem/Crypto/lab3"
      ],
      "execution_count": 163,
      "outputs": [
        {
          "output_type": "stream",
          "name": "stdout",
          "text": [
            "/content/drive/MyDrive/5 sem/Crypto/lab3\n"
          ]
        }
      ]
    },
    {
      "cell_type": "code",
      "metadata": {
        "colab": {
          "base_uri": "https://localhost:8080/"
        },
        "id": "SLY0O2IaiYFn",
        "outputId": "1fadce32-3810-4188-e077-5b9d6bc7983b"
      },
      "source": [
        "ls"
      ],
      "execution_count": 164,
      "outputs": [
        {
          "output_type": "stream",
          "name": "stdout",
          "text": [
            "01_clean.txt  01_utf8.txt            for_tests_V1  test1.txt\n",
            "01.txt        for_tests_utf8_V1.txt  lab3.gdoc     test_clean.txt\n"
          ]
        }
      ]
    },
    {
      "cell_type": "code",
      "metadata": {
        "id": "OmFEnat7bjR2"
      },
      "source": [
        "def clean_text(txt):\n",
        "    with open(txt, 'r', encoding='utf-8') as file:\n",
        "        text = file.read().lower()\n",
        "\n",
        "    chars = '.71()-«5d?[“!93286”…—4;»0:],naoti*IVXvxse–'\n",
        "    for ch in chars:\n",
        "        text = text.replace(ch, '')\n",
        "        \n",
        "    text = '_'.join([word.strip('\\n') for word in text.split()])\n",
        "    text = ''.join([word.strip('\\n') for word in text.split('_')])\n",
        "\n",
        "    with open('01_clean.txt', 'w', encoding='utf-8') as file:\n",
        "        file.write(text)\n",
        "\n",
        "#clean_text(\"for_tests_utf8_V1.txt\")\n",
        "clean_text(\"01_utf8.txt\")"
      ],
      "execution_count": 165,
      "outputs": []
    },
    {
      "cell_type": "code",
      "metadata": {
        "id": "rKRTpR7ely4D"
      },
      "source": [
        "def open_file(txt):\n",
        "    with open(txt, 'r', encoding='utf-8') as file:\n",
        "        text = file.read().lower()\n",
        "    return text\n",
        "\n",
        "test_raw = open_file(\"for_tests_utf8_V1.txt\")\n",
        "text = open_file(\"01_clean.txt\")\n",
        "test = open_file(\"test_clean.txt\")"
      ],
      "execution_count": 166,
      "outputs": []
    },
    {
      "cell_type": "code",
      "metadata": {
        "colab": {
          "base_uri": "https://localhost:8080/"
        },
        "id": "cCDVRe8PlPDg",
        "outputId": "2460265e-bedf-4816-9c44-f7ad73617fb1"
      },
      "source": [
        "from collections import Counter\n",
        "import operator\n",
        "from itertools import islice\n",
        "\n",
        "# from lab1\n",
        "def count_bi_nointersect(text):\n",
        "    res = Counter(text[idx: idx + 2] for idx in range(0, (len(text)), 2))\n",
        "    total_bi = sum(res.values())\n",
        "    res = {x: round(res[x]/total_bi, 10) for x in res}\n",
        "    return dict(res)\n",
        "    \n",
        "main_count = count_bi_nointersect(test)\n",
        "\n",
        "# sort\n",
        "test_count_sorted = dict(sorted(test_count.items(), key=operator.itemgetter(1),reverse=True))\n",
        "\n",
        "# get the first 5 items\n",
        "n_items = dict(islice(test_count_sorted.items(), 5))\n",
        "print(n_items)"
      ],
      "execution_count": 167,
      "outputs": [
        {
          "output_type": "stream",
          "name": "stdout",
          "text": [
            "{'вэ': 0.0221562809, 'кь': 0.0172106825, 'ыу': 0.0168150346, 'шк': 0.0152324431, 'ди': 0.0130563798}\n"
          ]
        }
      ]
    },
    {
      "cell_type": "markdown",
      "metadata": {
        "id": "X_ZU-W1HpOk3"
      },
      "source": [
        "###Частина 3"
      ]
    },
    {
      "cell_type": "markdown",
      "metadata": {
        "id": "WGgtyzOppjLg"
      },
      "source": [
        "Перебрати можливі варіанти співставлення частих біграм мови та частих біграм шифртексту (розглядаючи пари біграм із п’яти найчастіших). Для кожного співставлення знайти можливі кандидати на ключ (a,b) шляхом розв’язання системи (1)."
      ]
    },
    {
      "cell_type": "code",
      "metadata": {
        "id": "WZS8CEdCqLuM"
      },
      "source": [
        "alphabet_full = 'абвгдежзийклмнопрстуфхцчшщьыэюя'\n",
        "alphabet = list(alphabet_full)\n",
        "top_bi = ('ст', 'но', 'то', 'на', 'ен')\n",
        "\n",
        " # determine bigram's value\n",
        "def bi_val(bi):\n",
        "  val = alphabet.index(bi[0])*len(alphabet) + alphabet.index(bi[1])\n",
        "  return val\n",
        "\n",
        " # getting all possible pairs of bigrams cyphered-real\n",
        "def all_pairs(cyphered, real):\n",
        "  res = []\n",
        "  for el1 in cyphered:\n",
        "    for el2 in real:\n",
        "      res.append((el1, el2))\n",
        "  \n",
        "  res2 = []\n",
        "  for p1 in res:\n",
        "    for p2 in res:\n",
        "      if p2[0] not in p1 and p2[1] not in p1:\n",
        "        res2.append((p1,p2))\n",
        "  return res2\n",
        "\n",
        " # finding mutual key from a pair of bigrams cyphered-real\n",
        "def find_key(pair1, pair2):  # (y1, x1) (y2, x2)\n",
        "  y1, x1 = bi_val(pair1[0]), bi_val(pair1[1])\n",
        "  y2, x2 = bi_val(pair2[0]), bi_val(pair2[1])\n",
        "\n",
        "  a = linear(y1-y2,x1-x2,len(alphabet)**2)\n",
        "  b = []\n",
        "  if a != None:\n",
        "    for el in a:\n",
        "      b.append((y1-(x1*el))%len(alphabet)**2)\n",
        "  \n",
        "    return a,b"
      ],
      "execution_count": 168,
      "outputs": []
    },
    {
      "cell_type": "code",
      "metadata": {
        "id": "4Gc8Q7JzpUAh",
        "colab": {
          "base_uri": "https://localhost:8080/"
        },
        "outputId": "5abd8fab-cb48-489f-cb1b-ffecfaf7449b"
      },
      "source": [
        " # testing the code above\n",
        "n_items = {'вэ': 0.0221562809, 'кь': 0.0172106825, 'ыу': 0.0168150346, 'шк': 0.0152324431, 'ди': 0.0130563798}\n",
        "allp = all_pairs(n_items.keys(),top_bi)[0]\n",
        "print(allp)\n",
        "#print(bi_val(allp[0][0]))\n",
        "#print(bi_val(allp[0][1]))\n",
        "#print(bi_val(allp[1][0]))\n",
        "#print(bi_val(allp[1][1]))\n",
        "#print(linear(714,128,961))\n",
        "key_a, key_b = find_key(allp[0], allp[1])\n",
        "print(key_a, \"\\t\", key_b)"
      ],
      "execution_count": 169,
      "outputs": [
        {
          "output_type": "stream",
          "name": "stdout",
          "text": [
            "(('вэ', 'ст'), ('кь', 'но'))\n",
            "[312] \t [147]\n"
          ]
        }
      ]
    },
    {
      "cell_type": "markdown",
      "metadata": {
        "id": "KKaUH9Ehs23K"
      },
      "source": [
        "###Частина 4"
      ]
    },
    {
      "cell_type": "markdown",
      "metadata": {
        "id": "JrZM-GYhs6Ji"
      },
      "source": [
        "Для кожного кандидата на ключ дешифрувати шифртекст. Якщо шифртекст не є змістовним текстом російською мовою, відкинути цього кандидата."
      ]
    },
    {
      "cell_type": "code",
      "metadata": {
        "id": "7KqC554PtO45"
      },
      "source": [
        "def decode(a, b, text):\n",
        "  plaintext = ''\n",
        "  n = len(alphabet)\n",
        "  # get inverse of a\n",
        "  a_inv = gcd(a, n**2)[1]\n",
        "\n",
        "  # go through bigrams\n",
        "  for bi in [text[idx: idx + 2] for idx in range(0, (len(text)), 2)]:\n",
        "    bi_idx = bi_val(bi)\n",
        "    deciph_bi = ((bi_idx - b) * a_inv) % (n**2)\n",
        "\n",
        "    x2_idx = deciph_bi % n\n",
        "    x1_idx = (deciph_bi - x2_idx) / n\n",
        "\n",
        "    x1 = alphabet[int(x1_idx)]\n",
        "    x2 = alphabet[int(x2_idx)]\n",
        "    \n",
        "    plaintext += x1 + x2\n",
        "\n",
        "  return plaintext"
      ],
      "execution_count": 170,
      "outputs": []
    },
    {
      "cell_type": "code",
      "metadata": {
        "id": "VpbSDnF5Jffb"
      },
      "source": [
        "def avg(data):\n",
        "  return sum(data.values()) / len(data)\n",
        "\n",
        "# may be refactored later\n",
        "def find_sence(text):\n",
        "    forbidden_lst = ('аъ', 'аь', 'бй', 'бф', 'гщ', 'гъ', 'еъ', 'еь', 'жй', 'жц', 'жщ', 'жъ', 'жы', 'йъ', 'къ', 'лъ', 'мъ', 'оъ', 'пъ', 'ръ', 'уъ','уь', 'фщ', 'фъ', 'хы', 'хь', 'цщ', 'цъ', 'цю', 'чф', 'чц', 'чщ', 'чъ', 'чы', 'чю', 'шщ', 'шъ', 'шы', 'шю', 'щг', 'щж','щл', 'щх', 'щц', 'щч', 'щш', 'щъ', 'щы', 'щю', 'щя', 'ъа', 'ъб', 'ъг', 'ъд', 'ъз', 'ъй', 'ък', 'ъл', 'ън', 'ъо', 'ъп', 'ър','ъс', 'ът', 'ъу', 'ъф', 'ъх', 'ъц', 'ъч', 'ъш', 'ъщ', 'ъъ', 'ъы', 'ъь', 'ъэ', 'ыъ', 'ыь', 'ьъ', 'ьы', 'эа', 'эж', 'эи', 'эо','эу', 'эщ', 'эъ', 'эы', 'эь', 'эю', 'эя', 'юъ', 'юы', 'юь', 'яъ', 'яы', 'яь', 'ьь')\n",
        "    current_lst = count_bi_nointersect(text)\n",
        "    result = 0\n",
        "    counter = 0\n",
        "    \n",
        "    for f in forbidden_lst:\n",
        "        if f in current_lst:\n",
        "            result += current_lst[f]\n",
        "            counter += 1\n",
        "    try:\n",
        "        final = result/counter\n",
        "    except ZeroDivisionError:\n",
        "        return True\n",
        "    # may be refactored\n",
        "    if final <= avg(current_lst):\n",
        "        return True"
      ],
      "execution_count": 177,
      "outputs": []
    },
    {
      "cell_type": "markdown",
      "metadata": {
        "id": "DE1etY79tPUw"
      },
      "source": [
        "###Частина 5"
      ]
    },
    {
      "cell_type": "markdown",
      "metadata": {
        "id": "vBypJEJrtURl"
      },
      "source": [
        "Повторювати дії 3-4 доти, доки дешифрований текст не буде змістовним."
      ]
    },
    {
      "cell_type": "code",
      "metadata": {
        "id": "cyJsyLj1DVqL"
      },
      "source": [
        "results = []\n",
        "def try_pair(pair):\n",
        "  #try:\n",
        "    keys_a, keys_b = find_key(pair[0], pair[1])\n",
        "    for key_a, key_b in zip(keys_a, keys_b):\n",
        "      text = decode(key_a, key_b, test)\n",
        "      # if find_sence(text):\n",
        "      final = (key_a, key_b)\n",
        "      f = open(\"demofile2.txt\", \"a\")\n",
        "      f.write(str(final))\n",
        "      f.write(text)\n",
        "      f.close()\n",
        "      #print(\"final: \", final)\n",
        "      #print(text)\n",
        "      return 1\n",
        "  #except TypeError:\n",
        "    #print(\"An error occured\")"
      ],
      "execution_count": 184,
      "outputs": []
    },
    {
      "cell_type": "code",
      "metadata": {
        "id": "fI0pF-zBtja9"
      },
      "source": [
        "status = False\n",
        "allp = all_pairs(n_items.keys(),top_bi)\n",
        "for pair in allp:\n",
        "  try_pair(pair)\n",
        "#final = decode(13, 151, text)\n",
        "#print(final)\n",
        "    #if try_pair():\n",
        "    #  break"
      ],
      "execution_count": 185,
      "outputs": []
    },
    {
      "cell_type": "markdown",
      "metadata": {
        "id": "9dZbbJnHtkse"
      },
      "source": [
        "###Висновки"
      ]
    },
    {
      "cell_type": "markdown",
      "metadata": {
        "id": "2rwvPY4MtoY-"
      },
      "source": [
        "Say smth"
      ]
    }
  ]
}