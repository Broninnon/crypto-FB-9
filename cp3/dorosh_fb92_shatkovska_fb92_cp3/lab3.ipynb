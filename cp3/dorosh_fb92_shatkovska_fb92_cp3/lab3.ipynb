{
  "nbformat": 4,
  "nbformat_minor": 0,
  "metadata": {
    "colab": {
      "name": "lab3.ipynb",
      "provenance": [],
      "collapsed_sections": [],
      "include_colab_link": true
    },
    "kernelspec": {
      "name": "python3",
      "display_name": "Python 3"
    },
    "language_info": {
      "name": "python"
    }
  },
  "cells": [
    {
      "cell_type": "markdown",
      "metadata": {
        "id": "view-in-github",
        "colab_type": "text"
      },
      "source": [
        "<a href=\"https://colab.research.google.com/github/minako-aino/crypto-FB-9/blob/cp3/cp3/dorosh_fb92_shatkovska_fb92_cp3/lab3.ipynb\" target=\"_parent\"><img src=\"https://colab.research.google.com/assets/colab-badge.svg\" alt=\"Open In Colab\"/></a>"
      ]
    },
    {
      "cell_type": "markdown",
      "metadata": {
        "id": "HtPYh4-HcnWf"
      },
      "source": [
        "# Лабораторна робота з криптографії №3\n",
        "#### Виконали: Дорош Анастасія та Шатковська Діана ФБ-92\n"
      ]
    },
    {
      "cell_type": "markdown",
      "metadata": {
        "id": "Y-UUXv_IsZ8o"
      },
      "source": [
        "**Мета:** засвоєння понять ентропії на символ джерела та його надлишковості, вивчення та порівняння різних моделей джерела відкритого тексту для наближеного визначення\n",
        "ентропії, набуття практичних навичок щодо оцінки ентропії на символ джерела.\n",
        "\n"
      ]
    },
    {
      "cell_type": "markdown",
      "metadata": {
        "id": "UnCWw1OwsmWH"
      },
      "source": [
        "###Хід роботи"
      ]
    },
    {
      "cell_type": "markdown",
      "metadata": {
        "id": "QGnGM0bKswtj"
      },
      "source": [
        "Say smth"
      ]
    },
    {
      "cell_type": "markdown",
      "metadata": {
        "id": "7Z2MTJCKtISO"
      },
      "source": [
        "###Частина 1\n"
      ]
    },
    {
      "cell_type": "markdown",
      "metadata": {
        "id": "MX9MnniEcZ-D"
      },
      "source": [
        "Реалізувати підпрограми із необхідними математичними операціями:\n",
        "обчисленням оберненого елементу за модулем із використанням розширеного алгоритму Евкліда, розв’язуванням лінійних порівнянь. При розв’язуванні порівнянь потрібно коректно обробляти випадок із декількома розв’язками, повертаючи їх усі.\n"
      ]
    },
    {
      "cell_type": "code",
      "metadata": {
        "id": "hBtbxoB9dtv4",
        "colab": {
          "base_uri": "https://localhost:8080/"
        },
        "outputId": "8ca2c02e-5475-43b3-f04b-b092c5c4ff59"
      },
      "source": [
        "def gcd(a, b):\n",
        "  p = [0,1]\n",
        "  gcd_val = b\n",
        "  a, b = max(a,b), min(a,b)\n",
        "  while (b != 0):\n",
        "    # print('---')\n",
        "    # print(a,b)\n",
        "    q = a // b\n",
        "    # print(q)\n",
        "    gcd_val = b\n",
        "    a, b = b, a % b\n",
        "    p.append(p[-1]*(-q)+p[-2])\n",
        "    # print(p[-1])\n",
        "  return gcd_val, p[-2]\n",
        "\n",
        "# debug\n",
        "gcd(154, 803)"
      ],
      "execution_count": 5,
      "outputs": [
        {
          "output_type": "execute_result",
          "data": {
            "text/plain": [
              "(11, -26)"
            ]
          },
          "metadata": {},
          "execution_count": 5
        }
      ]
    },
    {
      "cell_type": "code",
      "metadata": {
        "id": "2OdrQ91oeOtG"
      },
      "source": [
        "def linear(a, b, n):\n",
        "  d, a_re = gcd(a, n)\n",
        "\n",
        "  if d == 1:\n",
        "    x = (a_re*b) % n\n",
        "\n",
        "    return [x]\n",
        "  else:\n",
        "    if b%d == 0:\n",
        "      solutions = []\n",
        "      solutions_loc = []\n",
        "\n",
        "      a1 = a/d\n",
        "      b1 = b/d\n",
        "      n1 = n/d\n",
        "\n",
        "      solutions_loc = linear(a1, b1, n1)\n",
        "\n",
        "      for i in range(0, d):\n",
        "        for x0 in solutions_loc:\n",
        "          res = x0+(d-i)*n1\n",
        "          solutions.append(res%n)\n",
        "\n",
        "      print(f\"There are {d} solutions: \")\n",
        "      return sorted(solutions)\n",
        "    else:\n",
        "      print(\"No solutions\")\n",
        "      return None"
      ],
      "execution_count": 6,
      "outputs": []
    },
    {
      "cell_type": "code",
      "metadata": {
        "id": "SCgQOU42zhI0",
        "colab": {
          "base_uri": "https://localhost:8080/"
        },
        "outputId": "65b6b221-43dd-4a2f-ca2b-646ebfb920ac"
      },
      "source": [
        "# test\n",
        "linear(154,22,803)"
      ],
      "execution_count": 7,
      "outputs": [
        {
          "output_type": "stream",
          "name": "stdout",
          "text": [
            "There are 11 solutions: \n"
          ]
        },
        {
          "output_type": "execute_result",
          "data": {
            "text/plain": [
              "[21.0, 94.0, 167.0, 240.0, 313.0, 386.0, 459.0, 532.0, 605.0, 678.0, 751.0]"
            ]
          },
          "metadata": {},
          "execution_count": 7
        }
      ]
    },
    {
      "cell_type": "markdown",
      "metadata": {
        "id": "m8qeaO6zyb0o"
      },
      "source": [
        "###Частина 2"
      ]
    },
    {
      "cell_type": "markdown",
      "metadata": {
        "id": "gTkp5DDn-94X"
      },
      "source": [
        "За допомогою програми обчислення частот біграм, яка написана в ході виконання комп’ютерного практикуму No1, знайти 5 найчастіших біграм запропонованого шифртексту (за варіантом)."
      ]
    },
    {
      "cell_type": "code",
      "metadata": {
        "colab": {
          "base_uri": "https://localhost:8080/"
        },
        "id": "sca5KtHMCOwC",
        "outputId": "9db36598-e3e6-4c51-fd2a-2af944ae9ab3"
      },
      "source": [
        "# stuff to get the file\n",
        "from google.colab import drive\n",
        "drive.mount('/content/drive')"
      ],
      "execution_count": 9,
      "outputs": [
        {
          "output_type": "stream",
          "name": "stdout",
          "text": [
            "Mounted at /content/drive\n"
          ]
        }
      ]
    },
    {
      "cell_type": "code",
      "metadata": {
        "colab": {
          "base_uri": "https://localhost:8080/"
        },
        "id": "bin9HTiYPGng",
        "outputId": "1b3bc442-d5fc-4464-d39d-2e123b160cbe"
      },
      "source": [
        "cd /content/drive/MyDrive/5 sem/Crypto/lab3"
      ],
      "execution_count": 10,
      "outputs": [
        {
          "output_type": "stream",
          "name": "stdout",
          "text": [
            "/content/drive/MyDrive/5 sem/Crypto/lab3\n"
          ]
        }
      ]
    },
    {
      "cell_type": "code",
      "metadata": {
        "id": "rKRTpR7ely4D"
      },
      "source": [
        "def open_file(txt):\n",
        "    with open(txt, 'r', encoding='utf-8') as file:\n",
        "        text = file.read().lower()\n",
        "    return text\n",
        "\n",
        "test = open_file(\"for_tests_utf8_V1\")\n",
        "main_txt = open_file(\"01_utf8.txt\")"
      ],
      "execution_count": 11,
      "outputs": []
    },
    {
      "cell_type": "code",
      "metadata": {
        "colab": {
          "base_uri": "https://localhost:8080/"
        },
        "id": "cCDVRe8PlPDg",
        "outputId": "8f46bb1f-1952-4407-d5ad-0ff49257f5b6"
      },
      "source": [
        "from collections import Counter\n",
        "import operator\n",
        "from itertools import islice\n",
        "\n",
        "# from lab1\n",
        "def count_bi_intersect(text):\n",
        "    res = Counter(text[idx: idx + 2] for idx in range(len(text)))\n",
        "    total_bi = sum(res.values())\n",
        "    res = {x: round(res[x]/total_bi, 100) for x in res}\n",
        "    return dict(res)\n",
        "\n",
        "test_count = count_bi_nointersect(test)\n",
        "\n",
        "# sort\n",
        "test_count_sorted = dict(sorted(test_count.items(), key=operator.itemgetter(1),reverse=True))\n",
        "\n",
        "# get the first 5 items\n",
        "n_items = dict(islice(test_count_sorted.items(), 5))\n",
        "print(n_items)"
      ],
      "execution_count": 21,
      "outputs": [
        {
          "output_type": "stream",
          "name": "stdout",
          "text": [
            "{'вэ': 0.0221562809, 'кь': 0.0172106825, 'ыу': 0.0168150346, 'шк': 0.0152324431, 'ди': 0.0130563798}\n"
          ]
        }
      ]
    },
    {
      "cell_type": "markdown",
      "metadata": {
        "id": "X_ZU-W1HpOk3"
      },
      "source": [
        "###Частина 3"
      ]
    },
    {
      "cell_type": "markdown",
      "metadata": {
        "id": "WGgtyzOppjLg"
      },
      "source": [
        "Перебрати можливі варіанти співставлення частих біграм мови та частих біграм шифртексту (розглядаючи пари біграм із п’яти найчастіших). Для кожного співставлення знайти можливі кандидати на ключ (a,b) шляхом розв’язання системи (1)."
      ]
    },
    {
      "cell_type": "code",
      "metadata": {
        "id": "WZS8CEdCqLuM"
      },
      "source": [
        "top_bi = ('ст', 'но', 'то', 'на', 'ен')\n",
        "\n",
        "def find_key():\n",
        "\n",
        "  return a,b"
      ],
      "execution_count": null,
      "outputs": []
    },
    {
      "cell_type": "code",
      "metadata": {
        "id": "4Gc8Q7JzpUAh"
      },
      "source": [
        ""
      ],
      "execution_count": null,
      "outputs": []
    },
    {
      "cell_type": "markdown",
      "metadata": {
        "id": "KKaUH9Ehs23K"
      },
      "source": [
        "###Частина 4"
      ]
    },
    {
      "cell_type": "markdown",
      "metadata": {
        "id": "JrZM-GYhs6Ji"
      },
      "source": [
        "Для кожного кандидата на ключ дешифрувати шифртекст. Якщо шифртекст не є змістовним текстом російською мовою, відкинути цього кандидата."
      ]
    },
    {
      "cell_type": "code",
      "metadata": {
        "id": "7KqC554PtO45"
      },
      "source": [
        "def decode(a,b):\n",
        "  return result"
      ],
      "execution_count": null,
      "outputs": []
    },
    {
      "cell_type": "code",
      "metadata": {
        "id": "VpbSDnF5Jffb"
      },
      "source": [
        "# may be refactored later\n",
        "def find_sence(text):\n",
        "    forbidden_lst = ('аъ', 'аь', 'бй', 'бф', 'гщ', 'гъ', 'еъ', 'еь', 'жй', 'жц', 'жщ', 'жъ', 'жы', 'йъ', 'къ', 'лъ', 'мъ', 'оъ', 'пъ', 'ръ', 'уъ', \n",
        "                     'уь', 'фщ', 'фъ', 'хы', 'хь', 'цщ', 'цъ', 'цю', 'чф', 'чц', 'чщ', 'чъ', 'чы', 'чю', 'шщ', 'шъ', 'шы', 'шю', 'щг', 'щж', \n",
        "                     'щл', 'щх', 'щц', 'щч', 'щш', 'щъ', 'щы', 'щю', 'щя', 'ъа', 'ъб', 'ъг', 'ъд', 'ъз', 'ъй', 'ък', 'ъл', 'ън', 'ъо', 'ъп', 'ър', \n",
        "                     'ъс', 'ът', 'ъу', 'ъф', 'ъх', 'ъц', 'ъч', 'ъш', 'ъщ', 'ъъ', 'ъы', 'ъь', 'ъэ', 'ыъ', 'ыь', 'ьъ', 'ьы', 'эа', 'эж', 'эи', 'эо', \n",
        "                     'эу', 'эщ', 'эъ', 'эы', 'эь', 'эю', 'эя', 'юъ', 'юы', 'юь', 'яъ', 'яы', 'яь', 'ьь')\n",
        "    current_lst = count_bi_nointersect(text)\n",
        "    result = 0\n",
        "    counter = 0\n",
        "\n",
        "    for f in forbidden_lst:\n",
        "        if f in current_lst:\n",
        "            result += current_lst[f]\n",
        "            counter += 1\n",
        "    try:\n",
        "        final = result/counter\n",
        "    except ZeroDivisionError:\n",
        "        return True\n",
        "\n",
        "    if final <= avg(current_lst):\n",
        "        return True"
      ],
      "execution_count": 23,
      "outputs": []
    },
    {
      "cell_type": "markdown",
      "metadata": {
        "id": "DE1etY79tPUw"
      },
      "source": [
        "###Частина 5"
      ]
    },
    {
      "cell_type": "markdown",
      "metadata": {
        "id": "vBypJEJrtURl"
      },
      "source": [
        "Повторювати дії 3-4 доти, доки дешифрований текст не буде змістовним."
      ]
    },
    {
      "cell_type": "code",
      "metadata": {
        "id": "fI0pF-zBtja9"
      },
      "source": [
        ""
      ],
      "execution_count": null,
      "outputs": []
    },
    {
      "cell_type": "markdown",
      "metadata": {
        "id": "9dZbbJnHtkse"
      },
      "source": [
        "###Висновки"
      ]
    },
    {
      "cell_type": "markdown",
      "metadata": {
        "id": "2rwvPY4MtoY-"
      },
      "source": [
        "Say smth"
      ]
    },
    {
      "cell_type": "markdown",
      "metadata": {
        "id": "h2Atyq3TRsoO"
      },
      "source": [
        "###Допоміжні функції та аналіз"
      ]
    }
  ]
}