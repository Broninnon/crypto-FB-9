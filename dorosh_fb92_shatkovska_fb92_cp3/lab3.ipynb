{
  "nbformat": 4,
  "nbformat_minor": 0,
  "metadata": {
    "colab": {
      "name": "lab3.ipynb",
      "provenance": [],
      "collapsed_sections": [],
      "include_colab_link": true
    },
    "kernelspec": {
      "name": "python3",
      "display_name": "Python 3"
    },
    "language_info": {
      "name": "python"
    }
  },
  "cells": [
    {
      "cell_type": "markdown",
      "metadata": {
        "id": "view-in-github",
        "colab_type": "text"
      },
      "source": [
        "<a href=\"https://colab.research.google.com/github/minako-aino/crypto-FB-9/blob/cp3/dorosh_fb92_shatkovska_fb92_cp3/lab3.ipynb\" target=\"_parent\"><img src=\"https://colab.research.google.com/assets/colab-badge.svg\" alt=\"Open In Colab\"/></a>"
      ]
    },
    {
      "cell_type": "markdown",
      "metadata": {
        "id": "HtPYh4-HcnWf"
      },
      "source": [
        "# Лабораторна робота з криптографії №3\n",
        "#### Виконали: Дорош Анастасія та Шатковська Діана ФБ-92\n"
      ]
    },
    {
      "cell_type": "markdown",
      "metadata": {
        "id": "7Z2MTJCKtISO"
      },
      "source": [
        "###Частина 1\n"
      ]
    },
    {
      "cell_type": "markdown",
      "metadata": {
        "id": "MX9MnniEcZ-D"
      },
      "source": [
        "1. Реалізувати підпрограми із необхідними математичними операціями:\n",
        "обчисленням оберненого елементу за модулем із використанням розширеного алгоритму\n",
        "Евкліда, розв’язуванням лінійних порівнянь. При розв’язуванні порівнянь потрібно\n",
        "коректно обробляти випадок із декількома розв’язками, повертаючи їх усі.\n"
      ]
    },
    {
      "cell_type": "code",
      "metadata": {
        "id": "hBtbxoB9dtv4",
        "colab": {
          "base_uri": "https://localhost:8080/"
        },
        "outputId": "e52cfb1d-9f24-4a60-a482-69a440539735"
      },
      "source": [
        "def gcd(a, b):\n",
        "  p = [0,1]\n",
        "  gcd_val = b\n",
        "  a, b = max(a,b), min(a,b)\n",
        "  while (b != 0):\n",
        "    # print('---')\n",
        "    # print(a,b)\n",
        "    q = a // b\n",
        "    # print(q)\n",
        "    gcd_val = b\n",
        "    a, b = b, a % b\n",
        "    p.append(p[-1]*(-q)+p[-2])\n",
        "    # print(p[-1])\n",
        "  return gcd_val, p[-2]\n",
        "\n",
        "gcd(154, 803)"
      ],
      "execution_count": null,
      "outputs": [
        {
          "output_type": "execute_result",
          "data": {
            "text/plain": [
              "(1, 5)"
            ]
          },
          "metadata": {},
          "execution_count": 4
        }
      ]
    },
    {
      "cell_type": "code",
      "metadata": {
        "id": "nWAD-5FHz5YJ",
        "colab": {
          "base_uri": "https://localhost:8080/"
        },
        "outputId": "4a251663-14ce-4367-d0f1-f8eda630ca9f"
      },
      "source": [
        "gcd()"
      ],
      "execution_count": null,
      "outputs": [
        {
          "output_type": "execute_result",
          "data": {
            "text/plain": [
              "(11, -26)"
            ]
          },
          "metadata": {},
          "execution_count": 27
        }
      ]
    },
    {
      "cell_type": "code",
      "metadata": {
        "id": "2OdrQ91oeOtG"
      },
      "source": [
        "def linear(a, b, n):\n",
        "  d, a_re = gcd(a, n)\n",
        "\n",
        "  if d == 1:\n",
        "    x = (a_re*b) % n\n",
        "\n",
        "    return [x]\n",
        "  else:\n",
        "    if b%d == 0:\n",
        "      solutions = []\n",
        "      solutions_loc = []\n",
        "\n",
        "      a1 = a/d\n",
        "      b1 = b/d\n",
        "      n1 = n/d\n",
        "\n",
        "      solutions_loc = linear(a1, b1, n1)\n",
        "\n",
        "      for i in range(0, d):\n",
        "        for x0 in solutions_loc:\n",
        "          res = x0+(d-i)*n1\n",
        "          solutions.append(res%n)\n",
        "\n",
        "      print(f\"There are {d} solutions: \")\n",
        "      return sorted(solutions)\n",
        "    else:\n",
        "      print(\"No solutions\")\n",
        "      return None"
      ],
      "execution_count": 50,
      "outputs": []
    },
    {
      "cell_type": "code",
      "metadata": {
        "id": "SCgQOU42zhI0",
        "colab": {
          "base_uri": "https://localhost:8080/"
        },
        "outputId": "6fdf4ead-130c-4045-d897-405b37f31868"
      },
      "source": [
        "# test\n",
        "linear(154,22,803)"
      ],
      "execution_count": 51,
      "outputs": [
        {
          "output_type": "stream",
          "name": "stdout",
          "text": [
            "There are 11 solutions: \n"
          ]
        },
        {
          "output_type": "execute_result",
          "data": {
            "text/plain": [
              "[21.0, 94.0, 167.0, 240.0, 313.0, 386.0, 459.0, 532.0, 605.0, 678.0, 751.0]"
            ]
          },
          "metadata": {},
          "execution_count": 51
        }
      ]
    },
    {
      "cell_type": "markdown",
      "metadata": {
        "id": "m8qeaO6zyb0o"
      },
      "source": [
        "###Частина 2"
      ]
    },
    {
      "cell_type": "markdown",
      "metadata": {
        "id": "gTkp5DDn-94X"
      },
      "source": [
        "За допомогою програми обчислення частот біграм, яка написана в ході виконання комп’ютерного практикуму No1, знайти 5 найчастіших біграм запропонованого шифртексту (за варіантом)."
      ]
    }
  ]
}