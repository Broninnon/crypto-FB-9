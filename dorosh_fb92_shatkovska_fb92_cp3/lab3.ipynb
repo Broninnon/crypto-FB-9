{
  "nbformat": 4,
  "nbformat_minor": 0,
  "metadata": {
    "colab": {
      "name": "lab3.ipynb",
      "provenance": [],
      "collapsed_sections": [],
      "include_colab_link": true
    },
    "kernelspec": {
      "name": "python3",
      "display_name": "Python 3"
    },
    "language_info": {
      "name": "python"
    }
  },
  "cells": [
    {
      "cell_type": "markdown",
      "metadata": {
        "id": "view-in-github",
        "colab_type": "text"
      },
      "source": [
        "<a href=\"https://colab.research.google.com/github/minako-aino/crypto-FB-9/blob/cp3/dorosh_fb92_shatkovska_fb92_cp3/lab3.ipynb\" target=\"_parent\"><img src=\"https://colab.research.google.com/assets/colab-badge.svg\" alt=\"Open In Colab\"/></a>"
      ]
    },
    {
      "cell_type": "markdown",
      "metadata": {
        "id": "HtPYh4-HcnWf"
      },
      "source": [
        "# Лабораторна робота з криптографії №3\n",
        "#### Виконали: Дорош Анастасія та Шатковська Діана ФБ-92\n"
      ]
    },
    {
      "cell_type": "markdown",
      "metadata": {
        "id": "7Z2MTJCKtISO"
      },
      "source": [
        "###Частина 1\n"
      ]
    },
    {
      "cell_type": "markdown",
      "metadata": {
        "id": "MX9MnniEcZ-D"
      },
      "source": [
        "1. Реалізувати підпрограми із необхідними математичними операціями:\n",
        "обчисленням оберненого елементу за модулем із використанням розширеного алгоритму\n",
        "Евкліда, розв’язуванням лінійних порівнянь. При розв’язуванні порівнянь потрібно\n",
        "коректно обробляти випадок із декількома розв’язками, повертаючи їх усі.\n",
        "2. За допомогою програми обчислення частот біграм, яка написана в ході\n",
        "виконання комп’ютерного практикуму No1, знайти 5 найчастіших біграм запропонованого\n",
        "шифртексту (за варіантом).\n",
        "3. Перебрати можливі варіанти співставлення частих біграм мови та частих біграм\n",
        "шифртексту (розглядаючи пари біграм із п’яти найчастіших). Для кожного співставлення\n",
        "знайти можливі кандидати на ключ\n",
        "(a,b)\n",
        "шляхом розв’язання системи (1).\n",
        "\n",
        "4. Для кожного кандидата на ключ дешифрувати шифртекст. Якщо шифртекст не є\n",
        "змістовним текстом російською мовою, відкинути цього кандидата.\n",
        "5. Повторювати дії 3-4 доти, доки дешифрований текст не буде змістовним."
      ]
    },
    {
      "cell_type": "code",
      "metadata": {
        "id": "hBtbxoB9dtv4"
      },
      "source": [
        "def gcd(a, b):\n",
        "  p = [0,1]\n",
        "  val = 0\n",
        "  a, b = max(a,b), min(a,b)\n",
        "  while (b != 0):\n",
        "    print('---')\n",
        "    print(a,b)\n",
        "    q = a % b\n",
        "    a, b = b, a // b\n",
        "    p.append(p[-1]*p[-2]-q)\n",
        "    print(p[-1])\n",
        "  return 0\n",
        "\n",
        "gcd(a,b)"
      ],
      "execution_count": null,
      "outputs": []
    },
    {
      "cell_type": "code",
      "metadata": {
        "id": "2OdrQ91oeOtG"
      },
      "source": [
        "def linear(a, b, n):\n",
        "  d = gcd(a, n)\n",
        "  if d == 1:\n",
        "    print(\"One possible solution\")\n",
        "    x = (a_re*b) % n\n",
        "    return x\n",
        "  else:\n",
        "    if b%n == 0:\n",
        "      solutions = []\n",
        "      print(f\"There are {d} solutions\")\n",
        "      for i in range(1, d):\n",
        "        a1 = a/d\n",
        "        b1 = b/d\n",
        "        n1 = n/d\n",
        "        solutions.append(linear(a1, b1, d1))\n",
        "    else:\n",
        "      print(\"No solutions\")\n",
        "      return None"
      ],
      "execution_count": null,
      "outputs": []
    }
  ]
}